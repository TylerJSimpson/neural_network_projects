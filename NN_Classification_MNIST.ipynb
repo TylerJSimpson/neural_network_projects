{
  "nbformat": 4,
  "nbformat_minor": 0,
  "metadata": {
    "colab": {
      "name": "MNIST_classification_NN.ipynb",
      "provenance": [],
      "authorship_tag": "ABX9TyNq2vX2V9/UFnVK5tKzS6C6",
      "include_colab_link": true
    },
    "kernelspec": {
      "name": "python3",
      "display_name": "Python 3"
    },
    "language_info": {
      "name": "python"
    }
  },
  "cells": [
    {
      "cell_type": "markdown",
      "metadata": {
        "id": "view-in-github",
        "colab_type": "text"
      },
      "source": [
        "<a href=\"https://colab.research.google.com/github/TylerJSimpson/ML_neural_networks/blob/main/MNIST_classification_NN.ipynb\" target=\"_parent\"><img src=\"https://colab.research.google.com/assets/colab-badge.svg\" alt=\"Open In Colab\"/></a>"
      ]
    },
    {
      "cell_type": "markdown",
      "source": [
        "# **Deep Neural Network - Classification Problem**\n",
        "## MNIST"
      ],
      "metadata": {
        "id": "kd1a39FYmDaM"
      }
    },
    {
      "cell_type": "markdown",
      "source": [
        "### **Import Packages**"
      ],
      "metadata": {
        "id": "PCKe2MvEmSZX"
      }
    },
    {
      "cell_type": "code",
      "execution_count": 173,
      "metadata": {
        "id": "mmBuFn8umC5a"
      },
      "outputs": [],
      "source": [
        "import numpy as np\n",
        "import tensorflow as tf\n",
        "import tensorflow_datasets as tfds"
      ]
    },
    {
      "cell_type": "markdown",
      "source": [
        "### **Import Data**"
      ],
      "metadata": {
        "id": "7cmKq17_mdmE"
      }
    },
    {
      "cell_type": "code",
      "source": [
        "mnist_dataset, mnist_info = tfds.load(name='mnist', with_info=True, as_supervised=True)"
      ],
      "metadata": {
        "id": "9_ptdSXemf5Y"
      },
      "execution_count": 174,
      "outputs": []
    },
    {
      "cell_type": "markdown",
      "source": [
        "### **Preprocess**"
      ],
      "metadata": {
        "id": "w6v6mrw4q-S0"
      }
    },
    {
      "cell_type": "markdown",
      "source": [
        "#### Split and Scale"
      ],
      "metadata": {
        "id": "EABdcjCBsRAD"
      }
    },
    {
      "cell_type": "code",
      "source": [
        "#mnist has train and test datasets built in but no validation set\n",
        "#must split manually\n",
        "mnist_train, mnist_test = mnist_dataset['train'], mnist_dataset['test'] \n",
        "#train 60,000 test 10,000, take from train (larger set)\n",
        "\n",
        "num_validation_samples = 0.1 * mnist_info.splits['train'].num_examples #take 10% of train data for validation\n",
        "num_validation_samples = tf.cast(num_validation_samples, tf.int64) #ensure value is integer\n",
        "\n",
        "num_test_samples = mnist_info.splits['test'].num_examples\n",
        "num_test_samples = tf.cast(num_validation_samples, tf.int64)\n",
        "\n",
        "#scale inputs\n",
        "def scale(image, label):\n",
        "  #make sure image is a float\n",
        "  #then scale 0-255 grey shades to 0-1 (float)\n",
        "  image = tf.cast(image, tf.float32)\n",
        "  image /= 255.\n",
        "  return image, label\n",
        "\n",
        "scaled_train_and_validation_data = mnist_train.map(scale) #scale train and validation data\n",
        "test_data = mnist_test.map(scale) #scale test data"
      ],
      "metadata": {
        "id": "jkx6Ly0PnnVY"
      },
      "execution_count": 175,
      "outputs": []
    },
    {
      "cell_type": "markdown",
      "source": [
        "#### Shuffle\n",
        "Allow for randomization between batches.  \n",
        "Avoids confusion of SGD."
      ],
      "metadata": {
        "id": "y6UCmqwOsYl2"
      }
    },
    {
      "cell_type": "code",
      "source": [
        "BUFFER_SIZE = 10000 \n",
        "#buffer_size = 1, no shuffling will actually happen\n",
        "#buffer_size >= num_samples, shuffling will happen at once (uniformly)\n",
        "#1 < buffer_size < num_samples, optimizing computational power\n",
        "\n",
        "shuffled_train_and_validation_data = scaled_train_and_validation_data.shuffle(BUFFER_SIZE)\n",
        "\n",
        "validation_data = shuffled_train_and_validation_data.take(num_validation_samples)\n",
        "train_data = shuffled_train_and_validation_data.skip(num_validation_samples)"
      ],
      "metadata": {
        "id": "SEoMEet2sbuW"
      },
      "execution_count": 176,
      "outputs": []
    },
    {
      "cell_type": "markdown",
      "source": [
        "#### Batching\n",
        "mini-batch GD"
      ],
      "metadata": {
        "id": "UIc9SQH0vV6_"
      }
    },
    {
      "cell_type": "code",
      "source": [
        "BATCH_SIZE = 100\n",
        "#batch size = 1, stochastic gradient descent (SGD)\n",
        "#batch size = # samples, single batch GD\n",
        "#1 < batch size < # samples, mini-batch GD\n",
        "\n",
        "train_data = train_data.batch(BATCH_SIZE)\n",
        "#don't have to batch validation data because there won't be back propogation\n",
        "#still overwrite as TF expects data to be in batch form\n",
        "validation_data = validation_data.batch(num_validation_samples)\n",
        "test_data = test_data.batch(num_test_samples)\n",
        "\n",
        "#MNIST data is iterable and in 2-tuple format (as_supervised=True)\n",
        "validation_inputs, validation_targets = next(iter(validation_data))"
      ],
      "metadata": {
        "id": "M8SC5xSmty2A"
      },
      "execution_count": 177,
      "outputs": []
    },
    {
      "cell_type": "markdown",
      "source": [
        "### **Model**"
      ],
      "metadata": {
        "id": "qeedEgl-xtEh"
      }
    },
    {
      "cell_type": "markdown",
      "source": [
        "#### Outline  \n",
        "*   784 inputs (28x28 grid)\n",
        "*   10 outputs (1 for each digit 0-9)\n",
        "*   2 hidden layers (node size arbitrary, needs optimized)"
      ],
      "metadata": {
        "id": "Ph454h594Ta9"
      }
    },
    {
      "cell_type": "code",
      "source": [
        "input_size = 784\n",
        "output_size = 10\n",
        "hidden_layer_size = 100 #assumption is that all hidden layers are the same size\n",
        "\n",
        "model = tf.keras.Sequential([\n",
        "                             tf.keras.layers.Flatten(input_shape=(28,28,1)),\n",
        "                             tf.keras.layers.Dense(hidden_layer_size, activation='relu'), #rectify linear unit\n",
        "                             tf.keras.layers.Dense(hidden_layer_size, activation='tanh'),\n",
        "                             tf.keras.layers.Dense(output_size, activation='softmax')\n",
        "                             ])"
      ],
      "metadata": {
        "id": "27Iv9nSxx-jK"
      },
      "execution_count": 178,
      "outputs": []
    },
    {
      "cell_type": "markdown",
      "source": [
        "#### Optimizer and Loss Function"
      ],
      "metadata": {
        "id": "I_fG5MNN6nVq"
      }
    },
    {
      "cell_type": "code",
      "source": [
        "#optimizer: adaptive moment estimation (adam) is currently meta\n",
        "#loss function: cross-entropy usually good for classifier problems, 3 built in variations\n",
        "#binary_crossentropy, categorical_crossentropy, sparse_categorical_crossentropy\n",
        "#sparse_categorical_crossentropy applies one-hot encoding\n",
        "model.compile(\n",
        "    optimizer='adam', \n",
        "    loss='sparse_categorical_crossentropy',\n",
        "    metrics=['accuracy']\n",
        "    )\n"
      ],
      "metadata": {
        "id": "55J6OVaK6rdB"
      },
      "execution_count": 179,
      "outputs": []
    },
    {
      "cell_type": "markdown",
      "source": [
        "### **Training**"
      ],
      "metadata": {
        "id": "0f1knxgl8LyE"
      }
    },
    {
      "cell_type": "markdown",
      "source": [
        "\n",
        "Each epoch:\n",
        "\n",
        "1.   At the beginning of each epoch, the training loss will be set to 0\n",
        "2.   The aglorithm will iterate over a preset number of batches, all from *train_data*\n",
        "1.   The weights and biases will be updated as many times as there are batches\n",
        "1.   Obtain value for the loss function indicating training progress\n",
        "2.   See training accuracy\n",
        "2.   At the end of each epoch, the algorithm will forward propagate the whole validation set\n",
        "1.   Upon reaching the maximum number of epochs training will be over\n",
        "\n",
        "\n",
        "\n",
        "\n",
        "\n",
        "\n",
        "\n",
        "\n"
      ],
      "metadata": {
        "id": "5dScU6N-85uB"
      }
    },
    {
      "cell_type": "code",
      "source": [
        "NUM_EPOCHS = 10\n",
        "\n",
        "model.fit(train_data, epochs = NUM_EPOCHS, validation_data=(validation_inputs, validation_targets), verbose=2)\n",
        "\n",
        "#loss: decreasing, no large changes due to 540 bias and weight changes across first epoch (due to batches)\n",
        "#accuracy: increasing, in what % of cases outputs = targets, average accuracy\n",
        "#val_loss: check if model overfitting\n",
        "#val_accuracy: true accuracy of the model"
      ],
      "metadata": {
        "colab": {
          "base_uri": "https://localhost:8080/"
        },
        "id": "yxM9DjU68QkY",
        "outputId": "ac25799c-b40b-4976-dd8a-8a9b28884ed3"
      },
      "execution_count": 180,
      "outputs": [
        {
          "output_type": "stream",
          "name": "stdout",
          "text": [
            "Epoch 1/10\n",
            "540/540 - 9s - loss: 0.3222 - accuracy: 0.9071 - val_loss: 0.1465 - val_accuracy: 0.9543 - 9s/epoch - 17ms/step\n",
            "Epoch 2/10\n",
            "540/540 - 4s - loss: 0.1306 - accuracy: 0.9611 - val_loss: 0.1132 - val_accuracy: 0.9652 - 4s/epoch - 8ms/step\n",
            "Epoch 3/10\n",
            "540/540 - 4s - loss: 0.0921 - accuracy: 0.9720 - val_loss: 0.0821 - val_accuracy: 0.9748 - 4s/epoch - 8ms/step\n",
            "Epoch 4/10\n",
            "540/540 - 4s - loss: 0.0697 - accuracy: 0.9786 - val_loss: 0.0645 - val_accuracy: 0.9798 - 4s/epoch - 8ms/step\n",
            "Epoch 5/10\n",
            "540/540 - 4s - loss: 0.0555 - accuracy: 0.9825 - val_loss: 0.0585 - val_accuracy: 0.9828 - 4s/epoch - 8ms/step\n",
            "Epoch 6/10\n",
            "540/540 - 4s - loss: 0.0447 - accuracy: 0.9866 - val_loss: 0.0437 - val_accuracy: 0.9855 - 4s/epoch - 8ms/step\n",
            "Epoch 7/10\n",
            "540/540 - 5s - loss: 0.0372 - accuracy: 0.9880 - val_loss: 0.0413 - val_accuracy: 0.9875 - 5s/epoch - 9ms/step\n",
            "Epoch 8/10\n",
            "540/540 - 4s - loss: 0.0279 - accuracy: 0.9915 - val_loss: 0.0330 - val_accuracy: 0.9892 - 4s/epoch - 8ms/step\n",
            "Epoch 9/10\n",
            "540/540 - 4s - loss: 0.0257 - accuracy: 0.9924 - val_loss: 0.0285 - val_accuracy: 0.9900 - 4s/epoch - 8ms/step\n",
            "Epoch 10/10\n",
            "540/540 - 4s - loss: 0.0205 - accuracy: 0.9941 - val_loss: 0.0256 - val_accuracy: 0.9913 - 4s/epoch - 8ms/step\n"
          ]
        },
        {
          "output_type": "execute_result",
          "data": {
            "text/plain": [
              "<keras.callbacks.History at 0x7f794f506650>"
            ]
          },
          "metadata": {},
          "execution_count": 180
        }
      ]
    },
    {
      "cell_type": "markdown",
      "source": [
        "### **Testing**"
      ],
      "metadata": {
        "id": "csB8OAV-JqHW"
      }
    },
    {
      "cell_type": "code",
      "source": [
        "test_loss, test_accuracy = model.evaluate(test_data)"
      ],
      "metadata": {
        "colab": {
          "base_uri": "https://localhost:8080/"
        },
        "id": "RIKTtbKKJqZP",
        "outputId": "22fca41b-3475-4c1f-ecc7-d092b4da2b6f"
      },
      "execution_count": 181,
      "outputs": [
        {
          "output_type": "stream",
          "name": "stdout",
          "text": [
            "2/2 [==============================] - 2s 714ms/step - loss: 0.0806 - accuracy: 0.9772\n"
          ]
        }
      ]
    }
  ]
}
